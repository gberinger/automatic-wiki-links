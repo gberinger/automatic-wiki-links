{
 "cells": [
  {
   "cell_type": "code",
   "execution_count": 38,
   "metadata": {},
   "outputs": [],
   "source": [
    "import pandas as pd\n",
    "import numpy as np\n",
    "from matplotlib import pyplot as plt"
   ]
  },
  {
   "cell_type": "code",
   "execution_count": 39,
   "metadata": {},
   "outputs": [],
   "source": [
    "base_results = pd.read_csv('../epochs_base_en_no_shuffle/results_1.csv')"
   ]
  },
  {
   "cell_type": "code",
   "execution_count": 40,
   "metadata": {},
   "outputs": [],
   "source": [
    "rest_results = pd.read_csv('../epochs_en_no_shuffle/results_1.csv')"
   ]
  },
  {
   "cell_type": "code",
   "execution_count": 41,
   "metadata": {},
   "outputs": [],
   "source": [
    "results_df = pd.DataFrame([[0, base_results[\"cos_dist\"][0], base_results[\"top1_acc\"][0], base_results[\"top5_acc\"][0]]], columns=['epoch','cos_dist','top1_acc','top5_acc'])"
   ]
  },
  {
   "cell_type": "code",
   "execution_count": 44,
   "metadata": {},
   "outputs": [],
   "source": [
    "results_df = results_df.append(rest_results)"
   ]
  },
  {
   "cell_type": "code",
   "execution_count": 45,
   "metadata": {},
   "outputs": [],
   "source": [
    "results_df.to_csv(\"unified.csv\", index=False)"
   ]
  },
  {
   "cell_type": "code",
   "execution_count": 46,
   "metadata": {},
   "outputs": [],
   "source": [
    "contexts = range(1, 11)\n",
    "for c in contexts:\n",
    "    for v in [\"en\", \"en_core_web_sm\", \"en_core_web_md\", \"en_core_web_lg\" ]:\n",
    "        for shuffle_opt in [\"shuffle\", \"no_shuffle\"]:\n",
    "            base_results = pd.read_csv(\"../epochs_base_{}_{}/results_{}.csv\".format(v, shuffle_opt, c))\n",
    "            rest_results = pd.read_csv(\"../epochs_{}_{}/results_{}.csv\".format(v, shuffle_opt, c))\n",
    "            results_df = pd.DataFrame([[0, base_results[\"cos_dist\"][0], base_results[\"top1_acc\"][0], base_results[\"top5_acc\"][0]]], columns=['epoch','cos_dist','top1_acc','top5_acc'])\n",
    "            results_df = results_df.append(rest_results)\n",
    "            results_df.to_csv(\"results_{}_{}_{}.csv\".format(v, shuffle_opt, c), index=False)"
   ]
  },
  {
   "cell_type": "code",
   "execution_count": null,
   "metadata": {},
   "outputs": [],
   "source": []
  }
 ],
 "metadata": {
  "kernelspec": {
   "display_name": "Python 3",
   "language": "python",
   "name": "python3"
  },
  "language_info": {
   "codemirror_mode": {
    "name": "ipython",
    "version": 3
   },
   "file_extension": ".py",
   "mimetype": "text/x-python",
   "name": "python",
   "nbconvert_exporter": "python",
   "pygments_lexer": "ipython3",
   "version": "3.6.0"
  }
 },
 "nbformat": 4,
 "nbformat_minor": 2
}
